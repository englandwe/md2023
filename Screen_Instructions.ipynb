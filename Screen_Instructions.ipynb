{
 "cells": [
  {
   "cell_type": "markdown",
   "id": "0c87a991",
   "metadata": {},
   "source": [
    "# Screen\n",
    "\n",
    "If you are starting an analysis with a long projected run time (read assembly, mapping, qiime, etc.), you can initiate a `screen` session to allow your program to continue running while you close your laptop and head to the lab (or beer tent).\n",
    "\n",
    "## Getting Started\n",
    "\n",
    "To start the session, type:"
   ]
  },
  {
   "cell_type": "code",
   "execution_count": null,
   "id": "a28e7a10",
   "metadata": {},
   "outputs": [],
   "source": [
    "screen"
   ]
  },
  {
   "cell_type": "markdown",
   "id": "74c00a4b",
   "metadata": {},
   "source": [
    "Press enter at the intro page; it should disappear and the command line prompt should return. The terminal/command line prompt might look a little different, but you should be in the same directory you started in. Time to start your job!\n",
    "\n",
    "Once you are done working in the screen environment you can either detach it to return to it later OR kill it. "
   ]
  },
  {
   "cell_type": "markdown",
   "id": "9428a1e1",
   "metadata": {},
   "source": [
    "## Detatching\n",
    "\n",
    "Detatch from the screen using a key combination:"
   ]
  },
  {
   "cell_type": "markdown",
   "id": "c24461be",
   "metadata": {},
   "source": [
    " `ctrl+a, then d`"
   ]
  },
  {
   "cell_type": "markdown",
   "id": "642caf36",
   "metadata": {},
   "source": [
    "Note that when you press `ctrl+a` nothing will seem to happen. However, after pressing `d`, the screen will change and you will return to your original command line prompt.  You'll see a report that you have successfully detached.\n"
   ]
  },
  {
   "cell_type": "markdown",
   "id": "20ddb7ea",
   "metadata": {},
   "source": [
    "`[detached from 64566.pts-12.ip-172-31-79-89]`"
   ]
  },
  {
   "cell_type": "markdown",
   "id": "232c4c16",
   "metadata": {},
   "source": [
    "## Killing the screen\n",
    "\n",
    "To kill the screen, type `Ctrl+d` or `Ctrl+a`, then press `k` and confirm with `y`. It will report that you have terminated the screen session."
   ]
  },
  {
   "cell_type": "markdown",
   "id": "d367f7b6",
   "metadata": {},
   "source": [
    " `screen -r 64566 [screen is terminating]`"
   ]
  },
  {
   "cell_type": "markdown",
   "id": "d0dc47bf",
   "metadata": {},
   "source": [
    "## Reattaching\n",
    "\n",
    "If re-attaching a screen session already in progress, type:"
   ]
  },
  {
   "cell_type": "code",
   "execution_count": null,
   "id": "c8de5299",
   "metadata": {},
   "outputs": [],
   "source": [
    "screen -r"
   ]
  },
  {
   "cell_type": "markdown",
   "id": "68f78f01",
   "metadata": {},
   "source": [
    "If there are multiple screens available, you'll see a list.  Choose the one you want and reattach using its ID (the number at the beginning)."
   ]
  },
  {
   "cell_type": "code",
   "execution_count": null,
   "id": "f2348f9c",
   "metadata": {},
   "outputs": [],
   "source": [
    "screen -r"
   ]
  },
  {
   "cell_type": "markdown",
   "id": "32f2d491",
   "metadata": {},
   "source": [
    "`There are several suitable screens on:\n",
    "    64566.pts-12.ip-172-31-79-89    (07/29/2019 09:39:34 PM)    (Detached)\n",
    "    48100.pts-5.ip-172-31-79-89    (07/27/2019 03:55:59 PM)    (Detached)\n",
    "Type \"screen [-d] -r [pid.]tty.host\" to resume one of them.`"
   ]
  },
  {
   "cell_type": "code",
   "execution_count": null,
   "id": "38d83f8b",
   "metadata": {},
   "outputs": [],
   "source": [
    "screen -r 64566"
   ]
  }
 ],
 "metadata": {
  "kernelspec": {
   "display_name": "Bash",
   "language": "bash",
   "name": "bash"
  },
  "language_info": {
   "codemirror_mode": "shell",
   "file_extension": ".sh",
   "mimetype": "text/x-sh",
   "name": "bash"
  }
 },
 "nbformat": 4,
 "nbformat_minor": 5
}
