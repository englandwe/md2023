{
 "cells": [
  {
   "cell_type": "markdown",
   "id": "d4e7398b",
   "metadata": {},
   "source": [
    "# Basics of the Linux Command Line\n",
    "#### Whitney England - Microbial Diversity 2023\n",
    "\n",
    "## Getting Started\n",
    "\n",
    "Today, we'll be using JSLinux, a web-based terminal emulator, to practice commands in a UNIX environment. Access it here: https://bellard.org/jslinux/.\n",
    "\n",
    "You'll be presented with a list of options; click \"click here\" under \"Startup Link\" in the first row (Alpine Linux 3.12.0).\n",
    "\n",
    "![jslinux.png](jslinux.png)\n",
    "\n"
   ]
  },
  {
   "cell_type": "markdown",
   "id": "40bf6427",
   "metadata": {},
   "source": [
    "## What is this?\n",
    "\n",
    "A terminal - a window that allows you to interact with a remote computer via text-based commands. The `localhost:~#` is called the prompt - this will look different depending on the computer you're logged into, but generally, the first part will tell you the name of the server you're logged into, followed by the directory you're currently in, then ending with # or $.  After the prompt, you can type your commands.  Hit Enter to run them.\n",
    "\n",
    "![jsterm.png](jsterm.png)\n"
   ]
  },
  {
   "cell_type": "markdown",
   "id": "2ffb2561",
   "metadata": {},
   "source": [
    "## Where am I?\n",
    "\n",
    "By default, you'll be in your home directory.  The `pwd` command will **print** the current **working directory**, telling you where you are.  Usually, this will be something like `/home/yourname`"
   ]
  },
  {
   "cell_type": "code",
   "execution_count": null,
   "id": "6eed725e",
   "metadata": {
    "scrolled": true
   },
   "outputs": [],
   "source": [
    "pwd"
   ]
  },
  {
   "cell_type": "markdown",
   "id": "9f55151e",
   "metadata": {},
   "source": [
    "You can also establish who you are (your username)."
   ]
  },
  {
   "cell_type": "code",
   "execution_count": null,
   "id": "918e5b30",
   "metadata": {},
   "outputs": [],
   "source": [
    "whoami"
   ]
  },
  {
   "cell_type": "markdown",
   "id": "1f00d76e",
   "metadata": {},
   "source": [
    "To see the files and directories present in your current directory, use the `ls` command."
   ]
  },
  {
   "cell_type": "code",
   "execution_count": null,
   "id": "6f0e8b3c",
   "metadata": {},
   "outputs": [],
   "source": [
    "ls"
   ]
  },
  {
   "cell_type": "markdown",
   "id": "b449aa23",
   "metadata": {},
   "source": [
    "You can get more detail on the files using `ls -l`."
   ]
  },
  {
   "cell_type": "code",
   "execution_count": null,
   "id": "c20017cd",
   "metadata": {},
   "outputs": [],
   "source": [
    "ls -l"
   ]
  },
  {
   "cell_type": "markdown",
   "id": "b5db1f49",
   "metadata": {},
   "source": [
    "There are lots of other ways to customize the output of `ls`.  You can use the `man` command to get a **man**ual for another command. *This won't work in our practice terminal, but it will on most systems.*"
   ]
  },
  {
   "cell_type": "code",
   "execution_count": null,
   "id": "3538bb37",
   "metadata": {},
   "outputs": [],
   "source": [
    "man ls"
   ]
  },
  {
   "cell_type": "markdown",
   "id": "9466c99d",
   "metadata": {},
   "source": [
    "Now you can try something more complex."
   ]
  },
  {
   "cell_type": "code",
   "execution_count": null,
   "id": "34ba6155",
   "metadata": {},
   "outputs": [],
   "source": [
    "ls -lah"
   ]
  },
  {
   "cell_type": "markdown",
   "id": "07aed396",
   "metadata": {},
   "source": [
    "## File permissions\n",
    "So what's all this `drwxrwxr-x`?  These are permissions, which tell you what you (and others) can do to a file or directory.\n"
   ]
  },
  {
   "cell_type": "markdown",
   "id": "4baaadcf",
   "metadata": {},
   "source": [
    "![permissions.png](permissions.png)"
   ]
  },
  {
   "cell_type": "markdown",
   "id": "e7bc7a32",
   "metadata": {},
   "source": [
    "## Files and directories\n",
    "\n",
    "You can create new directories, move to them, and see what's inside.\n",
    "\n",
    "_Avoid using these characters in file or directory names:_ ``| , ! @ # $ % ^ & * ( ) { } [ ] + = ; : \\ ` ? > < space tab``. `_` and `-` are good substitutes for spaces."
   ]
  },
  {
   "cell_type": "code",
   "execution_count": null,
   "id": "c21be9dc",
   "metadata": {},
   "outputs": [],
   "source": [
    "mkdir awesome_data"
   ]
  },
  {
   "cell_type": "code",
   "execution_count": null,
   "id": "a2145145",
   "metadata": {},
   "outputs": [],
   "source": [
    "ls"
   ]
  },
  {
   "cell_type": "code",
   "execution_count": null,
   "id": "35dc8f43",
   "metadata": {},
   "outputs": [],
   "source": [
    "cd awesome_data"
   ]
  },
  {
   "cell_type": "markdown",
   "id": "b19ec4ce",
   "metadata": {},
   "source": [
    "*Note how your prompt changes as you move to a new directory.*"
   ]
  },
  {
   "cell_type": "code",
   "execution_count": null,
   "id": "72c02c59",
   "metadata": {},
   "outputs": [],
   "source": [
    "ls"
   ]
  },
  {
   "cell_type": "markdown",
   "id": "e2dba71b",
   "metadata": {},
   "source": [
    "You can move to a directory above your current one using a double dot (`..`)."
   ]
  },
  {
   "cell_type": "code",
   "execution_count": null,
   "id": "0e1820b9",
   "metadata": {},
   "outputs": [],
   "source": [
    "cd .."
   ]
  },
  {
   "cell_type": "code",
   "execution_count": null,
   "id": "7e02bc2c",
   "metadata": {},
   "outputs": [],
   "source": [
    "pwd"
   ]
  },
  {
   "cell_type": "markdown",
   "id": "3d92771d",
   "metadata": {},
   "source": [
    "You can chain together as many double dots as you like.  This would take you up three directory levels: `../../..`."
   ]
  },
  {
   "cell_type": "markdown",
   "id": "d8e87dc7",
   "metadata": {},
   "source": [
    "Another useful shortcut is `~`, which represents your home directory."
   ]
  },
  {
   "cell_type": "code",
   "execution_count": null,
   "id": "6100f40a",
   "metadata": {},
   "outputs": [],
   "source": [
    "cd ~"
   ]
  },
  {
   "cell_type": "code",
   "execution_count": null,
   "id": "092e5239",
   "metadata": {},
   "outputs": [],
   "source": [
    "pwd"
   ]
  },
  {
   "cell_type": "markdown",
   "id": "c36683fd",
   "metadata": {},
   "source": [
    "We can also create simple text files."
   ]
  },
  {
   "cell_type": "code",
   "execution_count": null,
   "id": "fa758cff",
   "metadata": {},
   "outputs": [],
   "source": [
    "echo \"some fun text\" > myfile.txt"
   ]
  },
  {
   "cell_type": "code",
   "execution_count": null,
   "id": "bc39acb4",
   "metadata": {},
   "outputs": [],
   "source": [
    "ls"
   ]
  },
  {
   "cell_type": "markdown",
   "id": "67531aba",
   "metadata": {},
   "source": [
    "We can show the entire file with `cat`, scroll through it with `less`, or edit it with `nano`."
   ]
  },
  {
   "cell_type": "code",
   "execution_count": null,
   "id": "be7ea51a",
   "metadata": {},
   "outputs": [],
   "source": [
    "cat myfile.txt"
   ]
  },
  {
   "cell_type": "code",
   "execution_count": null,
   "id": "541cd40a",
   "metadata": {},
   "outputs": [],
   "source": [
    "less myfile.txt"
   ]
  },
  {
   "cell_type": "markdown",
   "id": "38b7fff6",
   "metadata": {},
   "source": [
    "Type `q` to quit."
   ]
  },
  {
   "cell_type": "code",
   "execution_count": null,
   "id": "af5ce2e7",
   "metadata": {},
   "outputs": [],
   "source": [
    "nano myfile.txt"
   ]
  },
  {
   "cell_type": "markdown",
   "id": "f847e12a",
   "metadata": {},
   "source": [
    "`Ctrl+x` to exit, `y`/`n` to save or not save the file."
   ]
  },
  {
   "cell_type": "markdown",
   "id": "30e8201b",
   "metadata": {},
   "source": [
    "Files and directories can be copied, moved, and removed.  _There is no recycle bin here; if you delete something, it's gone forever. Remove with care._"
   ]
  },
  {
   "cell_type": "code",
   "execution_count": null,
   "id": "2240fb48",
   "metadata": {},
   "outputs": [],
   "source": [
    "cp myfile.txt newfile.txt"
   ]
  },
  {
   "cell_type": "code",
   "execution_count": null,
   "id": "ab89d948",
   "metadata": {},
   "outputs": [],
   "source": [
    "mv newfile.txt awesome_data"
   ]
  },
  {
   "cell_type": "code",
   "execution_count": null,
   "id": "850b75e8",
   "metadata": {},
   "outputs": [],
   "source": [
    "cd awesome_data"
   ]
  },
  {
   "cell_type": "code",
   "execution_count": null,
   "id": "76c2ecbe",
   "metadata": {},
   "outputs": [],
   "source": [
    "mv newfile.txt delete_this.txt"
   ]
  },
  {
   "cell_type": "code",
   "execution_count": null,
   "id": "b29e79d0",
   "metadata": {},
   "outputs": [],
   "source": [
    "rm delete_this.txt"
   ]
  },
  {
   "cell_type": "code",
   "execution_count": null,
   "id": "bbb9872b",
   "metadata": {},
   "outputs": [],
   "source": [
    "cd ~"
   ]
  },
  {
   "cell_type": "markdown",
   "id": "e8ed2937",
   "metadata": {},
   "source": [
    "To delete directories and their contents **recursively**, use the `-r` flag."
   ]
  },
  {
   "cell_type": "code",
   "execution_count": null,
   "id": "2e2cb10b",
   "metadata": {},
   "outputs": [],
   "source": [
    "rm -r awesome_data"
   ]
  },
  {
   "cell_type": "markdown",
   "id": "0ebc6b9a",
   "metadata": {},
   "source": [
    "## Searching\n",
    "\n",
    "We can use `grep` to search within text files.  Move back to your home directory and try searching `myfile.txt`."
   ]
  },
  {
   "cell_type": "code",
   "execution_count": null,
   "id": "e15dda3a",
   "metadata": {},
   "outputs": [],
   "source": [
    "grep \"fun\" myfile.txt"
   ]
  },
  {
   "cell_type": "markdown",
   "id": "db780369",
   "metadata": {},
   "source": [
    "To find a file, use the `find` command. `~` is the directory to search (recursively), `-iname` searches by name, case-insensitive, and `\"myfile.txt\"` is the name to search for. `man find` will get you more details."
   ]
  },
  {
   "cell_type": "code",
   "execution_count": null,
   "id": "580eb7dd",
   "metadata": {},
   "outputs": [],
   "source": [
    "find ~ -iname \"myfile.txt\""
   ]
  },
  {
   "cell_type": "markdown",
   "id": "5b7acb5c",
   "metadata": {},
   "source": [
    "## Ending Things\n",
    "\n",
    "You can kill a running command with `Ctrl+C`.\n",
    "\n",
    "_Hint: you can paste this into the practice terminal by right-clicking on the flashing green cursor._\n"
   ]
  },
  {
   "cell_type": "code",
   "execution_count": null,
   "id": "a4fc0c45",
   "metadata": {},
   "outputs": [],
   "source": [
    "while :; do echo 'OH NO'; sleep 1; done"
   ]
  },
  {
   "cell_type": "markdown",
   "id": "21b8adf6",
   "metadata": {},
   "source": [
    "To terminate your connection to a server, use `Ctrl+D`."
   ]
  },
  {
   "cell_type": "markdown",
   "id": "acdb4ea3",
   "metadata": {},
   "source": [
    "## Other useful tips\n",
    "\n",
    "You can use the mouse to select and copy text, but not to move your cursor.  Use the left and right arrow keys to move around.\n",
    "\n",
    "Copy and paste are a little different than you're used to - `Ctrl+Shift+C` and `Ctrl+Shift+V`.\n",
    "\n",
    "You can use the up and down arrows to scroll through your command history - useful for editing previous commands.\n",
    "\n",
    "You can use tab to autocomplete commands and filenames - type the beginning of the file name and then hit tab.  Hit it twice to see a list of options if there's more than one possibility.\n",
    "\n",
    "Asterisks (\\*) are wildcard characters.  For example, this would list all files in the current directory ending in .txt: `ls *.txt`\n",
    "\n",
    "If a text file is behaving strangely, the problem may be linebreaks. Windows, Mac, and Linux operating systems use different characters to tell a file the line has ended:  `\\r\\n` , `\\r`, `\\n`, `^M`.  Use a decent text editor than can produce Unix linebreaks (not Notepad, never MS Word!).  `nano` will work perfectly. Notepad++ is good for Windows users.  You can fix incorrect linebreaks using the commands `dos2unix` and `mac2unix`.\n",
    "\n",
    "You can see which directories will be searched when executing programs by examining your PATH variable: `echo \"$PATH\"`"
   ]
  },
  {
   "cell_type": "markdown",
   "id": "5d7d514b",
   "metadata": {},
   "source": [
    " ## Logging in using a real terminal\n",
    " ### Mac/ Linux\n",
    "\n",
    "You're using a UNIX-like system, so login using your local terminal using ssh (**s**ecure **sh**ell).  The command will look something like this:\n",
    "\n",
    "`ssh your_username@server_address`\n",
    "\n",
    "Enter your password when prompted and hit Enter.\n",
    "\n",
    "If you need to view graphics from the server, add -X or -Y.  This can be finicky, so if one doesn't work, try the other.\n",
    "\n",
    "`ssh -X your_username@server_address` or `ssh -Y your_username@server_address`\n",
    "\n",
    "For our current course server, you'll use a private key file (.pem) to prove your identity instead of a password:\n",
    "\n",
    "`ssh -i \"your_username_md2023.pem\" your_username@18.222.38.194`\n",
    "\n",
    "For IU servers:\n",
    "\n",
    "`ssh your_username@quartz.uits.iu.edu`\n",
    "\n",
    "OR\n",
    "\n",
    "`ssh your_username@carbonate.uits.iu.edu`\n",
    "\n",
    "You'll need to complete 2-factor authentication with Duo to complete your login."
   ]
  },
  {
   "cell_type": "markdown",
   "id": "f2cae2c6",
   "metadata": {},
   "source": [
    "### Windows (using PuTTY)\n",
    "\n",
    "For the course server:\n",
    "\n",
    "1. Open PuTTY\n",
    "2. Under Category, click on SSH > Auth\n",
    "3. Click browse\n",
    "4. Find your private key (your_username_md2023.pem) and select it\n",
    "5. Under Category, click on SSH > Auth and check the \"Enable X11 forwarding\" box.\n",
    "6. Under Category, click Session and input the server IP address (**18.222.38.194**) in the \"host name\" box\n",
    "7. Type \"md2023\" in the box under saved sessions and click save.\n",
    "8. Double-click on the \"md2023\" that appears under saved sessions.\n",
    "9. Log in with your username. Your key should be used automatically.\n",
    "10. For future logins, just double-click the \"md2023\" saved session.\n",
    "\n",
    "For the IU servers:\n",
    "\n",
    "1. Open PuTTY\n",
    "2. If you need to view graphics from the server: Under Category, click on SSH > Auth and check the \"Enable X11 forwarding\" box.\n",
    "3. Under Category, click Session and input the server address (`quartz.uits.iu.edu` or `carbonate.uits.iu.edu`) in the \"host name\" box     \n",
    "4. Type \"md2023_quartz\" or \"md2023_carbonate\" in the box under saved sessions and click save. \n",
    "5. Double-click on the \"md2023_quartz\" or \"md2023_carbonate\" that appears under saved sessions.\n",
    "6. Log in with your username and password.\n",
    "7. You'll need to complete 2-factor authentication with Duo to complete your login.\n",
    "8. For future logins, just double-click the \"md2023_quartz\" or \"md2023_carbonate\" saved session.\n",
    "\n",
    "\n",
    "![putty_example.png](putty_example.png)\n"
   ]
  },
  {
   "cell_type": "markdown",
   "id": "6c614de1",
   "metadata": {},
   "source": [
    "## Submitting jobs in a cluster environment with Slurm\n",
    "### Batch scripts\n",
    "\n",
    "Both quartz and carbonate are computing _clusters_ made up of many individual computers, or _nodes_.  Lots of people are constantly running lots of demanding programs, so we need a way to make sure everyone's jobs are managed fairly.  Enter SLURM.  SLURM is a scheduler that will add your job to a queue; it will run on an appropriate node when it's its turn.\n",
    "\n",
    "To run anything other than basic commands, you'll need to create a script - a text file with some header lines that tells SLURM details about the job you want to run, followed by the commands themselves. Here's an example:"
   ]
  },
  {
   "cell_type": "markdown",
   "id": "efcf00b9",
   "metadata": {},
   "source": [
    "```\n",
    "#!/bin/bash\n",
    "\n",
    "#SBATCH --job-name=your_job_name      ## Name of the job.\n",
    "#SBATCH --nodes=1            ## (-N) number of nodes to use\n",
    "#SBATCH --ntasks=1           ## (-n) number of tasks to launch. Typically 1 unless you're getting fancy.\n",
    "#SBATCH --cpus-per-task=4    ## number of cores the job needs\n",
    "#SBATCH --error=%x-%j.err ## error log file.  %x is replaced by numeric job ID, %j is job name as above\n",
    "#SBATCH --out=%x-%j.out ## out log file.  %x and %j same as with --error\n",
    "#SBATCH --mail-type=fail,invalid_depend,begin,end   ##emails you if the job starts, ends, fails, or can't start due to invalid dependencies. optional.\n",
    "#SBATCH --mail-user=your.email@wherever.edu  ##replace with your email. optional.\n",
    "#SBATCH --time=1-02:03:04 ## Format is DD-HH-MM-SS - this job would time out at 1 day, 2 hours, 3 minutes, 4 seconds. optional, but choosing a shorter time will likely get your job running sooner.\n",
    "#SBATCH --mem=8G ##maximum memory usage.  technically optional but recommended.\n",
    "#SBATCH -A slurm-account-name   ##Name of SLURM account to charge.\n",
    "#SBATCH -p some_partition   ##Name of partition to run on\n",
    "\n",
    "module load prokka\n",
    "\n",
    "prokka --cpus 4 --outdir my_prokka_results --prefix my_genome --metagenome --kingdom archaea my_seq.fa\n",
    "```\n",
    "\n"
   ]
  },
  {
   "cell_type": "markdown",
   "id": "3cd84000",
   "metadata": {},
   "source": [
    "Let's break that down.\n",
    "\n",
    "`#!/bin/bash` denotes which _shell_ you're using. Shells are what actually provide the command line interface. Most linux systems use bash. If you're on a mac, you may be using zsh. On quartz, carbonate, and most linux systems, we want bash.\n",
    "\n",
    "Lines starting with `#SBATCH` are instructions to SLURM. They are used to set the name of your job, the amount of nodes, CPUs, and memory required for your job, where to send error and output logs, where to send an email if your job changes status, and more. The comments (`##`) above explain what each line does. It's to your advantage to request reasonable resources for your job - smaller requests are more likely to get run sooner in the queue, and you won't take up unnecessary resources that other users could have used.\n",
    "\n",
    "The account (-A) and partition (-p) will be specific to the cluster you're using, if they are required at all.\n",
    "\n",
    "Software is often installed as _modules_ on clusters.  You can load just the modules required for your job, which helps avoid conflicts between software packages.  In this case, I was running prokka, so I activated that module with `module load prokka`.  \n",
    "\n",
    "To see what modules are available, run `module avail`.  \n",
    "\n",
    "To see what modules are currently loaded, `module list`. \n",
    "\n",
    "To deactivate a module, `module unload module_name`.\n",
    "\n",
    "Finally, after all the setup, I can run my actual prokka command.\n",
    "\n",
    "_HOT TIP:_ Save this example and use it as a template when creating new job scripts."
   ]
  },
  {
   "cell_type": "markdown",
   "id": "a2b7932f",
   "metadata": {},
   "source": [
    "### Running your jobs\n",
    "\n",
    "To submit your script to the queue, use the command `qsub`:\n",
    "\n",
    "`qsub myscript.slurm`\n",
    "\n",
    "To check the status of your jobs, use the `squeue` command:\n",
    "\n",
    "`squeue -u your_username`\n",
    "\n",
    "You should see something like this:\n",
    "\n",
    "      JOBID     USER      ACCOUNT           NAME  ST  TIME_LEFT NODES CPUS TRES_PER_N MIN_MEM NODELIST (REASON) \n",
    "      6663845 my_username some_acct job_name_1   R   14:13:50     1    8        N/A     32G node1 (None) \n",
    "      6663849 my_username some_acct job_name_2   R   14:13:50     1    4        N/A     16G node2 (None) \n",
    "      \n",
    "JOBID: numerical job ID\n",
    "\n",
    "USER: you\n",
    "\n",
    "ACCOUNT: jobs are typically assigned to a specific account if you're on a cluster that tracks or bills for usage.\n",
    "\n",
    "NAME: job name\n",
    "\n",
    "ST: Job state.  Some common states are:\n",
    "  * PD: pending (waiting its turn)\n",
    "  * R: running\n",
    "  * F: failed\n",
    "  * CG: completing (in the process of finishing; nearly done)\n",
    "  * CD: completed\n",
    "  * OOM: out of memory\n",
    "  * TO: timeout (job reached time limit)\n",
    "  \n",
    "TIME_LEFT: remaining time until job reaches time limit\n",
    "\n",
    "NODES: Number of nodes used\n",
    "\n",
    "CPUs: Number of CPUs used\n",
    "\n",
    "TRES_PER_N: Refers to **T**rackable **RES**ources - you won't need to worry about this.\n",
    "\n",
    "MIN_MEM: Memory you requested for your job\n",
    "\n",
    "NODELIST: Names of node(s) being used by your job\n",
    "\n",
    "REASON: Explains reasons for job state.  If your job is running normally, this will be (None).  If something has gone wrong, this may be helpful in figuring out why.\n",
    "\n",
    "Once your job has completed, it will disappear from the queue.  By default, jobs run in the directory you submitted the job from - look there for your output files.\n",
    "\n",
    "If you need to cancel a job, use the `scancel` command.  To cancel the first job above:\n",
    "\n",
    "`scancel 6663845`\n"
   ]
  },
  {
   "cell_type": "markdown",
   "id": "fec42066",
   "metadata": {},
   "source": [
    "### Interactive sessions\n",
    "\n",
    "If you need to run a job interactively, rather than submitting a batch script, you can start an interactive session:\n",
    "\n",
    "`srun -p some-partition -A slurm-account-name --pty bash`\n",
    "\n",
    "This will open an interactive bash terminal.  Make sure to end the session when you're done - `Ctrl+D` will disconnect you."
   ]
  },
  {
   "cell_type": "markdown",
   "id": "15893588",
   "metadata": {},
   "source": [
    "### More info\n",
    "\n",
    "IU's Slurm help page is here: https://kb.iu.edu/d/awrz"
   ]
  }
 ],
 "metadata": {
  "kernelspec": {
   "display_name": "Bash",
   "language": "bash",
   "name": "bash"
  },
  "language_info": {
   "codemirror_mode": "shell",
   "file_extension": ".sh",
   "mimetype": "text/x-sh",
   "name": "bash"
  }
 },
 "nbformat": 4,
 "nbformat_minor": 5
}
